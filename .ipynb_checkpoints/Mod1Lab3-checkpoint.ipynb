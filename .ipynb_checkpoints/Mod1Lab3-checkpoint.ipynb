{
 "cells": [
  {
   "cell_type": "code",
   "execution_count": 4,
   "id": "b2e44964-a48d-4da3-91de-f6f98f541f76",
   "metadata": {},
   "outputs": [],
   "source": [
    "# %load warren_spahn.py\n",
    "warren_spahn_w = [0,8,21,15,21,21,22,14,23,21]\n",
    "warren_spahn_l = [0,5,10,12,14,17,14,19,7,12]"
   ]
  },
  {
   "cell_type": "code",
   "execution_count": 6,
   "id": "d3fc88b8-7a93-45eb-91f6-c81cf67069ae",
   "metadata": {},
   "outputs": [],
   "source": [
    "# Append the 1955-1965 win-loss data\n",
    "warren_spahn_w.extend([17, 20, 21, 22, 21, 21, 21, 18, 23, 6, 7])\n",
    "warren_spahn_l.extend([14, 11, 11, 11, 15, 10, 13, 14, 7, 13, 16])\n"
   ]
  },
  {
   "cell_type": "code",
   "execution_count": 8,
   "id": "646ef1bd-a8fc-41ab-ba74-0d3572f4d1e4",
   "metadata": {},
   "outputs": [
    {
     "name": "stdout",
     "output_type": "stream",
     "text": [
      "W: [0, 8, 21, 15, 21, 21, 22, 14, 23, 21, 17, 20, 21, 22, 21, 21, 21, 18, 23, 6, 7]\n",
      "L: [0, 5, 10, 12, 14, 17, 14, 19, 7, 12, 14, 11, 11, 11, 15, 10, 13, 14, 7, 13, 16]\n"
     ]
    }
   ],
   "source": [
    "print(\"W:\", warren_spahn_w)\n",
    "print(\"L:\", warren_spahn_l)\n"
   ]
  }
 ],
 "metadata": {
  "kernelspec": {
   "display_name": "Python [conda env:base] *",
   "language": "python",
   "name": "conda-base-py"
  },
  "language_info": {
   "codemirror_mode": {
    "name": "ipython",
    "version": 3
   },
   "file_extension": ".py",
   "mimetype": "text/x-python",
   "name": "python",
   "nbconvert_exporter": "python",
   "pygments_lexer": "ipython3",
   "version": "3.12.7"
  }
 },
 "nbformat": 4,
 "nbformat_minor": 5
}
