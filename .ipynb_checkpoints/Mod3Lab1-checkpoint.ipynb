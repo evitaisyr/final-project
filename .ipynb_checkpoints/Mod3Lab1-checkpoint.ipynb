{
 "cells": [
  {
   "cell_type": "code",
   "execution_count": 2,
   "id": "7eaf0190-87c7-4949-a1d2-44c26bd9e45b",
   "metadata": {},
   "outputs": [],
   "source": [
    "from IPython.core.interactiveshell import InteractiveShell\n",
    "InteractiveShell.ast_node_interactivity = \"all\""
   ]
  },
  {
   "cell_type": "code",
   "execution_count": 3,
   "id": "7f395188-2bce-4ec4-a230-9e45fb177156",
   "metadata": {},
   "outputs": [
    {
     "name": "stdout",
     "output_type": "stream",
     "text": [
      "Compact Array Output (Using ndarray arithmetic):\n",
      "[0.3125     0.4375     0.52941176 0.58823529 0.29411765 0.64705882]\n",
      "\n",
      "Compact Array Output (Using NumPy functions):\n",
      "[0.3125     0.4375     0.52941176 0.58823529 0.29411765 0.64705882]\n",
      "\n",
      "Readable Format (Using ndarray arithmetic):\n",
      "Season 2019: Win/Loss Percentage = 0.312\n",
      "Season 2020: Win/Loss Percentage = 0.438\n",
      "Season 2021: Win/Loss Percentage = 0.529\n",
      "Season 2022: Win/Loss Percentage = 0.588\n",
      "Season 2023: Win/Loss Percentage = 0.294\n",
      "Season 2024: Win/Loss Percentage = 0.647\n",
      "\n",
      "Readable Format (Using NumPy functions):\n",
      "Season 2019: Win/Loss Percentage = 0.312\n",
      "Season 2020: Win/Loss Percentage = 0.438\n",
      "Season 2021: Win/Loss Percentage = 0.529\n",
      "Season 2022: Win/Loss Percentage = 0.588\n",
      "Season 2023: Win/Loss Percentage = 0.294\n",
      "Season 2024: Win/Loss Percentage = 0.647\n"
     ]
    }
   ],
   "source": [
    "import numpy as np\n",
    "\n",
    "# LA Chargers Data (Wins, Losses, Ties for 2019–2024)\n",
    "seasons = np.array([2019, 2020, 2021, 2022, 2023, 2024])\n",
    "wins = np.array([5, 7, 9, 10, 5, 11])\n",
    "losses = np.array([11, 9, 8, 7, 12, 6])\n",
    "ties = np.array([0, 0, 0, 0, 0, 0])  # No ties in these seasons\n",
    "\n",
    "# Method 1: Using ndarray arithmetic\n",
    "total_games = wins + losses + ties\n",
    "win_loss_percentage_arithmetic = (wins + 0.5 * ties) / total_games\n",
    "\n",
    "# Method 2: Using NumPy functions\n",
    "total_games_func = np.add(np.add(wins, losses), ties)\n",
    "win_loss_percentage_func = np.divide(np.add(wins, 0.5 * ties), total_games_func)\n",
    "\n",
    "# Compact Array Output\n",
    "print(\"Compact Array Output (Using ndarray arithmetic):\")\n",
    "print(win_loss_percentage_arithmetic)\n",
    "\n",
    "print(\"\\nCompact Array Output (Using NumPy functions):\")\n",
    "print(win_loss_percentage_func)\n",
    "\n",
    "# Readable Format\n",
    "print(\"\\nReadable Format (Using ndarray arithmetic):\")\n",
    "for season, percentage in zip(seasons, win_loss_percentage_arithmetic):\n",
    "    print(f\"Season {season}: Win/Loss Percentage = {percentage:.3f}\")\n",
    "\n",
    "print(\"\\nReadable Format (Using NumPy functions):\")\n",
    "for season, percentage in zip(seasons, win_loss_percentage_func):\n",
    "    print(f\"Season {season}: Win/Loss Percentage = {percentage:.3f}\")\n"
   ]
  }
 ],
 "metadata": {
  "kernelspec": {
   "display_name": "Python [conda env:base] *",
   "language": "python",
   "name": "conda-base-py"
  },
  "language_info": {
   "codemirror_mode": {
    "name": "ipython",
    "version": 3
   },
   "file_extension": ".py",
   "mimetype": "text/x-python",
   "name": "python",
   "nbconvert_exporter": "python",
   "pygments_lexer": "ipython3",
   "version": "3.12.7"
  }
 },
 "nbformat": 4,
 "nbformat_minor": 5
}
