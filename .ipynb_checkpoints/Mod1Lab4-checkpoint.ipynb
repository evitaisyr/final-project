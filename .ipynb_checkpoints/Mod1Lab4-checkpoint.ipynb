{
 "cells": [
  {
   "cell_type": "code",
   "execution_count": 2,
   "id": "cba4f8b6-4eb1-49e1-805a-4825e2e36927",
   "metadata": {},
   "outputs": [
    {
     "name": "stdout",
     "output_type": "stream",
     "text": [
      "AFC West Team Pairs:\n",
      "Denver Broncos vs Kansas City Chiefs\n",
      "Denver Broncos vs Las Vegas Raiders\n",
      "Denver Broncos vs Los Angeles Chargers\n",
      "Kansas City Chiefs vs Las Vegas Raiders\n",
      "Kansas City Chiefs vs Los Angeles Chargers\n",
      "Las Vegas Raiders vs Los Angeles Chargers\n"
     ]
    }
   ],
   "source": [
    "# List of teams in the AFC West\n",
    "afc_west_teams = [\"Denver Broncos\", \"Kansas City Chiefs\", \"Las Vegas Raiders\", \"Los Angeles Chargers\"]\n",
    "\n",
    "# Nested loop to generate unique pairs\n",
    "print(\"AFC West Team Pairs:\")\n",
    "for i in range(len(afc_west_teams)):\n",
    "    for j in range(i + 1, len(afc_west_teams)):\n",
    "        print(f\"{afc_west_teams[i]} vs {afc_west_teams[j]}\")\n"
   ]
  }
 ],
 "metadata": {
  "kernelspec": {
   "display_name": "Python [conda env:base] *",
   "language": "python",
   "name": "conda-base-py"
  },
  "language_info": {
   "codemirror_mode": {
    "name": "ipython",
    "version": 3
   },
   "file_extension": ".py",
   "mimetype": "text/x-python",
   "name": "python",
   "nbconvert_exporter": "python",
   "pygments_lexer": "ipython3",
   "version": "3.12.7"
  }
 },
 "nbformat": 4,
 "nbformat_minor": 5
}
