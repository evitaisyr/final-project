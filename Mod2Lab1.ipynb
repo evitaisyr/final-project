{
 "cells": [
  {
   "cell_type": "code",
   "execution_count": 2,
   "id": "4bb846e6-9c28-4a50-a99d-3d61a8ddc1fb",
   "metadata": {},
   "outputs": [],
   "source": [
    "from IPython.core.interactiveshell import InteractiveShell\n",
    "InteractiveShell.ast_node_interactivity = \"all\""
   ]
  },
  {
   "cell_type": "code",
   "execution_count": 3,
   "id": "073bf507-a146-4865-841c-55868fa8c494",
   "metadata": {},
   "outputs": [
    {
     "name": "stdout",
     "output_type": "stream",
     "text": [
      "Los Angeles Lakers Winning Percentages (Past 10 Seasons):\n",
      "Season 2023: Winning Percentage = 0.573\n",
      "Season 2022: Winning Percentage = 0.524\n",
      "Season 2021: Winning Percentage = 0.402\n",
      "Season 2020: Winning Percentage = 0.583\n",
      "Season 2019: Winning Percentage = 0.732\n",
      "Season 2018: Winning Percentage = 0.451\n",
      "Season 2017: Winning Percentage = 0.427\n",
      "Season 2016: Winning Percentage = 0.317\n",
      "Season 2015: Winning Percentage = 0.207\n",
      "Season 2014: Winning Percentage = 0.256\n",
      "Season 2013: Winning Percentage = 0.329\n"
     ]
    }
   ],
   "source": [
    "# Tuple of tuples: (season, wins, losses)\n",
    "lakers_records = (\n",
    "    (2023, 47, 35),  # 2023-24 season\n",
    "    (2022, 43, 39),  # 2022-23 season\n",
    "    (2021, 33, 49),  # 2021-22 season\n",
    "    (2020, 42, 30),  # 2020-21 season\n",
    "    (2019, 52, 19),  # 2019-20 season\n",
    "    (2018, 37, 45),  # 2018-19 season\n",
    "    (2017, 35, 47),  # 2017-18 season\n",
    "    (2016, 26, 56),  # 2016-17 season\n",
    "    (2015, 17, 65),  # 2015-16 season\n",
    "    (2014, 21, 61),  # 2014-15 season\n",
    "    (2013, 27, 55)   # 2013-14 season\n",
    ")\n",
    "\n",
    "# Print the season and winning percentage using unpacking\n",
    "print(\"Los Angeles Lakers Winning Percentages (Past 10 Seasons):\")\n",
    "for season, wins, losses in lakers_records:\n",
    "    total_games = wins + losses\n",
    "    win_percentage = wins / total_games\n",
    "    print(f\"Season {season}: Winning Percentage = {win_percentage:.3f}\")\n"
   ]
  }
 ],
 "metadata": {
  "kernelspec": {
   "display_name": "Python [conda env:base] *",
   "language": "python",
   "name": "conda-base-py"
  },
  "language_info": {
   "codemirror_mode": {
    "name": "ipython",
    "version": 3
   },
   "file_extension": ".py",
   "mimetype": "text/x-python",
   "name": "python",
   "nbconvert_exporter": "python",
   "pygments_lexer": "ipython3",
   "version": "3.12.7"
  }
 },
 "nbformat": 4,
 "nbformat_minor": 5
}
