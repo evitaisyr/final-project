{
 "cells": [
  {
   "cell_type": "code",
   "execution_count": 6,
   "id": "7be1240d-a3ed-4160-8547-5c8e1abc9d2f",
   "metadata": {},
   "outputs": [],
   "source": [
    "from IPython.core.interactiveshell import InteractiveShell\n",
    "InteractiveShell.ast_node_interactivity = \"all\""
   ]
  },
  {
   "cell_type": "code",
   "execution_count": 7,
   "id": "83109d9e-bd6c-4284-a825-28a0fc9d718b",
   "metadata": {},
   "outputs": [
    {
     "name": "stdout",
     "output_type": "stream",
     "text": [
      "Sorted PPG (Highest to Lowest):\n",
      "[35.4, 31.6, 30.0, 28.5, 28.3, 27.9, 27.6, 27.3, 27.0, 26.8, 25.3, 25.2, 24.0, 22.5, 22.3, 19.9, 17.6, 15.4, 13.8, 7.6]\n",
      "\n",
      "Kobe Bryant's top scoring season was 2005-06 with 35.4 PPG.\n",
      "\n",
      "Seasons in order of PPG (highest to lowest):\n",
      "Season 2005-06: 35.4 PPG\n",
      "Season 2006-07: 31.6 PPG\n",
      "Season 2002-03: 30.0 PPG\n",
      "Season 2000-01: 28.5 PPG\n",
      "Season 2007-08: 28.3 PPG\n",
      "Season 2011-12: 27.9 PPG\n",
      "Season 2004-05: 27.6 PPG\n",
      "Season 2012-13: 27.3 PPG\n",
      "Season 2009-10: 27.0 PPG\n",
      "Season 2008-09: 26.8 PPG\n",
      "Season 2010-11: 25.3 PPG\n",
      "Season 2001-02: 25.2 PPG\n",
      "Season 2003-04: 24.0 PPG\n",
      "Season 1999-00: 22.5 PPG\n",
      "Season 2014-15: 22.3 PPG\n",
      "Season 1998-99: 19.9 PPG\n",
      "Season 2015-16: 17.6 PPG\n",
      "Season 1997-98: 15.4 PPG\n",
      "Season 2013-14: 13.8 PPG\n",
      "Season 1996-97: 7.6 PPG\n"
     ]
    }
   ],
   "source": [
    "# Step 1: Create lists for seasons and stats (PPG)\n",
    "seasons = [\n",
    "    \"1996-97\", \"1997-98\", \"1998-99\", \"1999-00\", \"2000-01\", \"2001-02\", \"2002-03\",\n",
    "    \"2003-04\", \"2004-05\", \"2005-06\", \"2006-07\", \"2007-08\", \"2008-09\", \"2009-10\",\n",
    "    \"2010-11\", \"2011-12\", \"2012-13\", \"2013-14\", \"2014-15\", \"2015-16\"\n",
    "]\n",
    "\n",
    "ppg = [\n",
    "    7.6, 15.4, 19.9, 22.5, 28.5, 25.2, 30.0, 24.0, 27.6, 35.4,\n",
    "    31.6, 28.3, 26.8, 27.0, 25.3, 27.9, 27.3, 13.8, 22.3, 17.6\n",
    "]\n",
    "\n",
    "# Step 2: Create a sorted version of the PPG list (descending order)\n",
    "sorted_ppg = sorted(ppg, reverse=True)\n",
    "print(\"Sorted PPG (Highest to Lowest):\")\n",
    "print(sorted_ppg)\n",
    "\n",
    "# Step 3: Identify the top scoring season\n",
    "top_ppg = sorted_ppg[0]  # First element is the highest PPG\n",
    "for i in range(len(ppg)):\n",
    "    if ppg[i] == top_ppg:\n",
    "        top_season = seasons[i]\n",
    "        break\n",
    "\n",
    "print(f\"\\nKobe Bryant's top scoring season was {top_season} with {top_ppg} PPG.\\n\")\n",
    "\n",
    "# Step 4: Produce a list of seasons ordered by sorted PPG\n",
    "seasons_sorted_by_ppg = [season for _, season in sorted(zip(ppg, seasons), reverse=True)]\n",
    "\n",
    "# Step 5: Print the results\n",
    "print(\"Seasons in order of PPG (highest to lowest):\")\n",
    "for season, ppg_stat in zip(seasons_sorted_by_ppg, sorted_ppg):\n",
    "    print(f\"Season {season}: {ppg_stat} PPG\")\n"
   ]
  }
 ],
 "metadata": {
  "kernelspec": {
   "display_name": "Python [conda env:base] *",
   "language": "python",
   "name": "conda-base-py"
  },
  "language_info": {
   "codemirror_mode": {
    "name": "ipython",
    "version": 3
   },
   "file_extension": ".py",
   "mimetype": "text/x-python",
   "name": "python",
   "nbconvert_exporter": "python",
   "pygments_lexer": "ipython3",
   "version": "3.12.7"
  }
 },
 "nbformat": 4,
 "nbformat_minor": 5
}
