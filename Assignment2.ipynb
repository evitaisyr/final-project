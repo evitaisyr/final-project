{
 "cells": [
  {
   "cell_type": "code",
   "execution_count": 1,
   "id": "1518d93a-dbd5-49dd-8402-bf812e2c5b3e",
   "metadata": {},
   "outputs": [],
   "source": [
    "from IPython.core.interactiveshell import InteractiveShell\n",
    "InteractiveShell.ast_node_interactivity = \"all\""
   ]
  },
  {
   "cell_type": "code",
   "execution_count": 2,
   "id": "176daf83-a76b-48d5-afcd-00a33bc3fcf0",
   "metadata": {},
   "outputs": [],
   "source": [
    "# Lists of seasons, wins, losses, and ties\n",
    "seasons = [\n",
    "    \"2005\", \"2006\", \"2007\", \"2008\", \"2009\", \"2010\", \"2011\", \"2012\", \"2013\", \"2014\",\n",
    "    \"2015\", \"2016\", \"2017\", \"2018\", \"2019\", \"2020\", \"2021\", \"2022\", \"2023\", \"2024\"\n",
    "]\n",
    "wins = [9, 14, 11, 8, 13, 9, 8, 7, 9, 9, 4, 5, 9, 12, 5, 7, 9, 10, 5, 11]\n",
    "losses = [7, 2, 5, 8, 3, 7, 8, 9, 7, 7, 12, 11, 7, 4, 11, 9, 8, 7, 12, 6]\n",
    "ties = [0] * 20  # No ties in the past 20 seasons"
   ]
  },
  {
   "cell_type": "code",
   "execution_count": 3,
   "id": "2a4be9d6-3c11-4c55-bafd-9334c73b55a0",
   "metadata": {},
   "outputs": [
    {
     "name": "stdout",
     "output_type": "stream",
     "text": [
      "The top Chargers regular season win record was 87.50% in 2006.\n"
     ]
    }
   ],
   "source": [
    "# Create Functions to Calculate Win Percentage and to Find Top Season\n",
    "def calculate_win_percentage(wins, losses, ties=0):\n",
    "    total_games = wins + losses + ties\n",
    "    win_percentage = (wins + 0.5 * ties) / total_games\n",
    "    return win_percentage\n",
    "\n",
    "def find_top_season(seasons, wins, losses, ties=None):\n",
    "    if ties is None:\n",
    "        ties = [0] * len(seasons)  # Default ties to 0 if not provided\n",
    "    \n",
    "    top_percentage = 0\n",
    "    top_season = \"\"\n",
    "    \n",
    "    for i in range(len(seasons)):\n",
    "        win_pct = calculate_win_percentage(wins[i], losses[i], ties[i])\n",
    "        # Check if this season has the highest win percentage\n",
    "        if win_pct > top_percentage or (win_pct == top_percentage and seasons[i] > top_season):\n",
    "            top_percentage = win_pct\n",
    "            top_season = seasons[i]\n",
    "    \n",
    "    return top_season, top_percentage\n",
    "\n",
    "# Find the top season and win percentage\n",
    "top_season, top_percentage = find_top_season(seasons, wins, losses, ties)\n",
    "\n",
    "# Print the result\n",
    "print(f\"The top Chargers regular season win record was {top_percentage:.2%} in {top_season}.\")"
   ]
  }
 ],
 "metadata": {
  "kernelspec": {
   "display_name": "Python [conda env:base] *",
   "language": "python",
   "name": "conda-base-py"
  },
  "language_info": {
   "codemirror_mode": {
    "name": "ipython",
    "version": 3
   },
   "file_extension": ".py",
   "mimetype": "text/x-python",
   "name": "python",
   "nbconvert_exporter": "python",
   "pygments_lexer": "ipython3",
   "version": "3.12.7"
  }
 },
 "nbformat": 4,
 "nbformat_minor": 5
}
