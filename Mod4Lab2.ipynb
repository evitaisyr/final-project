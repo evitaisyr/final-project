{
 "cells": [
  {
   "cell_type": "code",
   "execution_count": 2,
   "id": "0b4aa2f8-4718-4f19-884a-7beaf82b8ab4",
   "metadata": {},
   "outputs": [
    {
     "name": "stdout",
     "output_type": "stream",
     "text": [
      "CSV file has been saved to: /Users/lizvitai/Documents/Pythonsports/nba_games_2019_2020.csv\n"
     ]
    }
   ],
   "source": [
    "import pandas as pd\n",
    "from nba_api.stats.static import teams\n",
    "from nba_api.stats.endpoints import leaguegamefinder\n",
    "\n",
    "# Step 1: Get the team IDs for LA Lakers, Milwaukee Bucks, and Miami Heat\n",
    "nba_teams = teams.get_teams()\n",
    "\n",
    "# Fetching team IDs for the required teams\n",
    "lakers_id = [team['id'] for team in nba_teams if team['abbreviation'] == 'LAL'][0]\n",
    "bucks_id = [team['id'] for team in nba_teams if team['abbreviation'] == 'MIL'][0]\n",
    "heat_id = [team['id'] for team in nba_teams if team['abbreviation'] == 'MIA'][0]\n",
    "\n",
    "# Step 2: Create a function to fetch and filter game data for a given team and season\n",
    "def fetch_team_games(team_id, season='2019-20'):\n",
    "    # Use the LeagueGameFinder endpoint to fetch games\n",
    "    gamefinder = leaguegamefinder.LeagueGameFinder(team_id_nullable=team_id)\n",
    "    games_df = gamefinder.get_data_frames()[0]\n",
    "    \n",
    "    # Filter the games for the 2019-2020 season (SEASON_ID ends with '2020')\n",
    "    games_df = games_df[games_df.SEASON_ID.str.endswith('2020')]\n",
    "    \n",
    "    return games_df\n",
    "\n",
    "# Step 3: Fetch the game data for each team\n",
    "lakers_games = fetch_team_games(lakers_id)\n",
    "bucks_games = fetch_team_games(bucks_id)\n",
    "heat_games = fetch_team_games(heat_id)\n",
    "\n",
    "# Step 4: Concatenate all game data into a single DataFrame\n",
    "all_games = pd.concat([lakers_games, bucks_games, heat_games], ignore_index=True)\n",
    "\n",
    "# Step 5: Export the DataFrame to a CSV file\n",
    "output_file_path = '/Users/lizvitai/Documents/Pythonsports/nba_games_2019_2020.csv'\n",
    "all_games.to_csv(output_file_path, index=False)\n",
    "\n",
    "# Step 6: Confirm the file is saved\n",
    "print(f\"CSV file has been saved to: {output_file_path}\")\n"
   ]
  },
  {
   "cell_type": "code",
   "execution_count": 3,
   "id": "2d68d051-00b4-4e68-98c3-00a740785a51",
   "metadata": {},
   "outputs": [
    {
     "name": "stdout",
     "output_type": "stream",
     "text": [
      "  SEASON_ID     TEAM_ID TEAM_ABBREVIATION           TEAM_NAME     GAME_ID  \\\n",
      "0     42020  1610612747               LAL  Los Angeles Lakers  0042000156   \n",
      "1     42020  1610612747               LAL  Los Angeles Lakers  0042000155   \n",
      "2     42020  1610612747               LAL  Los Angeles Lakers  0042000154   \n",
      "3     42020  1610612747               LAL  Los Angeles Lakers  0042000153   \n",
      "4     42020  1610612747               LAL  Los Angeles Lakers  0042000152   \n",
      "\n",
      "    GAME_DATE      MATCHUP WL  MIN  PTS  ...  FT_PCT  OREB  DREB  REB  AST  \\\n",
      "0  2021-06-03  LAL vs. PHX  L  241  100  ...   0.875    11    24   35   21   \n",
      "1  2021-06-01    LAL @ PHX  L  240   85  ...   0.714    10    41   51   14   \n",
      "2  2021-05-30  LAL vs. PHX  L  239   92  ...   0.714     9    41   50   19   \n",
      "3  2021-05-27  LAL vs. PHX  W  240  109  ...   0.867    15    36   51   19   \n",
      "4  2021-05-25    LAL @ PHX  W  241  109  ...   0.871     8    31   39   24   \n",
      "\n",
      "   STL  BLK  TOV  PF  PLUS_MINUS  \n",
      "0    5    3    7  20       -13.0  \n",
      "1    3    1   16  25       -30.0  \n",
      "2    3    5   15  18        -8.0  \n",
      "3   10    4   20  19        14.0  \n",
      "4    9    6    7  23         7.0  \n",
      "\n",
      "[5 rows x 28 columns]\n"
     ]
    }
   ],
   "source": [
    "# Display the first few rows of the combined DataFrame to verify the output\n",
    "print(all_games.head())\n"
   ]
  },
  {
   "cell_type": "code",
   "execution_count": 4,
   "id": "db0085a8-7ee1-4b4f-ad93-d0aad1e2cf08",
   "metadata": {},
   "outputs": [
    {
     "name": "stdout",
     "output_type": "stream",
     "text": [
      "    GAME_DATE           TEAM_NAME      MATCHUP  PTS\n",
      "0  2021-06-03  Los Angeles Lakers  LAL vs. PHX  100\n",
      "1  2021-06-01  Los Angeles Lakers    LAL @ PHX   85\n",
      "2  2021-05-30  Los Angeles Lakers  LAL vs. PHX   92\n",
      "3  2021-05-27  Los Angeles Lakers  LAL vs. PHX  109\n",
      "4  2021-05-25  Los Angeles Lakers    LAL @ PHX  109\n"
     ]
    }
   ],
   "source": [
    "# Display the first few rows of selected columns to verify the output\n",
    "print(all_games[['GAME_DATE', 'TEAM_NAME', 'MATCHUP', 'PTS']].head())\n"
   ]
  }
 ],
 "metadata": {
  "kernelspec": {
   "display_name": "Python [conda env:base] *",
   "language": "python",
   "name": "conda-base-py"
  },
  "language_info": {
   "codemirror_mode": {
    "name": "ipython",
    "version": 3
   },
   "file_extension": ".py",
   "mimetype": "text/x-python",
   "name": "python",
   "nbconvert_exporter": "python",
   "pygments_lexer": "ipython3",
   "version": "3.12.7"
  }
 },
 "nbformat": 4,
 "nbformat_minor": 5
}
