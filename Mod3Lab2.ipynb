{
 "cells": [
  {
   "cell_type": "code",
   "execution_count": 2,
   "id": "d7cfe161-16fc-498a-9945-0a8fb2a2973f",
   "metadata": {},
   "outputs": [],
   "source": [
    "from IPython.core.interactiveshell import InteractiveShell\n",
    "InteractiveShell.ast_node_interactivity = \"all\""
   ]
  },
  {
   "cell_type": "code",
   "execution_count": 3,
   "id": "d9b4f3fd-e42e-4240-925c-9abf50346e3e",
   "metadata": {},
   "outputs": [
    {
     "name": "stdout",
     "output_type": "stream",
     "text": [
      "Kobe Bryant's highest PPG was 35.4 in the 2005-06 season.\n",
      "Kobe Bryant's unique PPG values in his career are: [ 7.6 13.8 15.4 17.6 19.9 22.3 22.5 24.  25.2 25.3 26.8 27.  27.3 27.6\n",
      " 27.9 28.3 28.5 30.  31.6 35.4]\n"
     ]
    }
   ],
   "source": [
    "import numpy as np\n",
    "\n",
    "# Seasons and PPG arrays\n",
    "seasons = np.array([\n",
    "    \"1996-97\", \"1997-98\", \"1998-99\", \"1999-00\", \"2000-01\", \"2001-02\", \"2002-03\",\n",
    "    \"2003-04\", \"2004-05\", \"2005-06\", \"2006-07\", \"2007-08\", \"2008-09\", \"2009-10\",\n",
    "    \"2010-11\", \"2011-12\", \"2012-13\", \"2013-14\", \"2014-15\", \"2015-16\"\n",
    "])\n",
    "\n",
    "ppg = np.array([\n",
    "    7.6, 15.4, 19.9, 22.5, 28.5, 25.2, 30.0, 24.0, 27.6, 35.4,\n",
    "    31.6, 28.3, 26.8, 27.0, 25.3, 27.9, 27.3, 13.8, 22.3, 17.6\n",
    "])\n",
    "\n",
    "# Maximum PPG and corresponding season\n",
    "max_ppg = np.max(ppg)\n",
    "max_index = np.argmax(ppg)\n",
    "top_season = seasons[max_index]\n",
    "\n",
    "# Unique PPG values\n",
    "unique_ppg = np.unique(ppg)\n",
    "\n",
    "# Output\n",
    "print(f\"Kobe Bryant's highest PPG was {max_ppg} in the {top_season} season.\")\n",
    "print(\"Kobe Bryant's unique PPG values in his career are:\", unique_ppg)\n"
   ]
  }
 ],
 "metadata": {
  "kernelspec": {
   "display_name": "Python [conda env:base] *",
   "language": "python",
   "name": "conda-base-py"
  },
  "language_info": {
   "codemirror_mode": {
    "name": "ipython",
    "version": 3
   },
   "file_extension": ".py",
   "mimetype": "text/x-python",
   "name": "python",
   "nbconvert_exporter": "python",
   "pygments_lexer": "ipython3",
   "version": "3.12.7"
  }
 },
 "nbformat": 4,
 "nbformat_minor": 5
}
