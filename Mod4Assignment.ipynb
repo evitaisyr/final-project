{
 "cells": [
  {
   "cell_type": "code",
   "execution_count": 1,
   "id": "491fe1e4-abe0-4358-b2a9-1165c6571d27",
   "metadata": {},
   "outputs": [
    {
     "name": "stdout",
     "output_type": "stream",
     "text": [
      "Fetching roster for Lakers...\n",
      "Roster for Lakers saved!\n",
      "Fetching roster for Miami Heat...\n",
      "Roster for Miami Heat saved!\n",
      "Fetching roster for Boston Celtics...\n",
      "Roster for Boston Celtics saved!\n",
      "Fetching roster for Milwaukee Bucks...\n",
      "Roster for Milwaukee Bucks saved!\n",
      "Shape of concatenated table: (75, 8)\n",
      "                         No. Pos    Ht   Wt         Birth Date  Birth Exp  \\\n",
      "Player                                                                      \n",
      "Kostas Antetokounmpo      37  PF  6-10  200  November 20, 1997  gr GR   1   \n",
      "Avery Bradley             11  SG   6-3  180  November 26, 1990  us US   9   \n",
      "Devontae Cacok            12   C   6-7  240    October 8, 1996  us US   R   \n",
      "Kentavious Caldwell-Pope   1  SG   6-5  204  February 18, 1993  us US   6   \n",
      "Alex Caruso                4  PG   6-5  186  February 28, 1994  us US   2   \n",
      "\n",
      "                                 College  \n",
      "Player                                    \n",
      "Kostas Antetokounmpo              Dayton  \n",
      "Avery Bradley                      Texas  \n",
      "Devontae Cacok            UNC Wilmington  \n",
      "Kentavious Caldwell-Pope         Georgia  \n",
      "Alex Caruso                    Texas A&M  \n"
     ]
    }
   ],
   "source": [
    "# Step 1: Allow output from every line in Jupyter notebook\n",
    "from IPython.core.interactiveshell import InteractiveShell\n",
    "InteractiveShell.ast_node_interactivity = \"all\"\n",
    "\n",
    "# Import necessary libraries\n",
    "import requests\n",
    "import pandas as pd\n",
    "from io import StringIO\n",
    "\n",
    "# Function to fetch and save rosters for each team\n",
    "def fetch_roster(team_name, url, save_path):\n",
    "    print(f\"Fetching roster for {team_name}...\")\n",
    "    # Send a request to the page\n",
    "    response = requests.get(url)\n",
    "    # Use StringIO to wrap the HTML content\n",
    "    html_content = StringIO(response.text)\n",
    "    # Read the table from the HTML\n",
    "    tables = pd.read_html(html_content)\n",
    "    # The roster table is the first table\n",
    "    roster = tables[0]\n",
    "    \n",
    "    # Clean the table and set 'Player' column as index\n",
    "    roster = roster.set_index('Player')\n",
    "    \n",
    "    # Save the roster as CSV\n",
    "    roster.to_csv(save_path)\n",
    "    print(f\"Roster for {team_name} saved!\")\n",
    "\n",
    "# Fetch rosters for the 2019-20 NBA season teams\n",
    "fetch_roster('Lakers', 'https://www.basketball-reference.com/teams/LAL/2020.html', '/Users/lizvitai/Documents/Pythonsports/Lakers_roster_2020.csv')\n",
    "fetch_roster('Miami Heat', 'https://www.basketball-reference.com/teams/MIA/2020.html', '/Users/lizvitai/Documents/Pythonsports/Miami_Heat_roster_2020.csv')\n",
    "fetch_roster('Boston Celtics', 'https://www.basketball-reference.com/teams/BOS/2020.html', '/Users/lizvitai/Documents/Pythonsports/Boston_Celtics_roster_2020.csv')\n",
    "fetch_roster('Milwaukee Bucks', 'https://www.basketball-reference.com/teams/MIL/2020.html', '/Users/lizvitai/Documents/Pythonsports/Milwaukee_Bucks_roster_2020.csv')\n",
    "\n",
    "# Step 3: Read all 4 CSVs into DataFrames\n",
    "lakers_roster = pd.read_csv(\"/Users/lizvitai/Documents/Pythonsports/Lakers_roster_2020.csv\", index_col='Player')\n",
    "heat_roster = pd.read_csv(\"/Users/lizvitai/Documents/Pythonsports/Miami_Heat_roster_2020.csv\", index_col='Player')\n",
    "celtics_roster = pd.read_csv(\"/Users/lizvitai/Documents/Pythonsports/Boston_Celtics_roster_2020.csv\", index_col='Player')\n",
    "bucks_roster = pd.read_csv(\"/Users/lizvitai/Documents/Pythonsports/Milwaukee_Bucks_roster_2020.csv\", index_col='Player')\n",
    "\n",
    "# Step 4: Concatenate all rosters into one all-inclusive table\n",
    "all_rosters = pd.concat([lakers_roster, heat_roster, celtics_roster, bucks_roster])\n",
    "\n",
    "# Step 5: Write the concatenated table to a CSV file (index included)\n",
    "all_rosters.to_csv(\"/Users/lizvitai/Documents/Pythonsports/all_rosters_2020.csv\")\n",
    "\n",
    "# Step 6: Verify the data\n",
    "print(f\"Shape of concatenated table: {all_rosters.shape}\")\n",
    "print(all_rosters.head())  # Print first few rows of the concatenated table to verify\n",
    "\n",
    "# Step 7: Push the CSV to GitHub (in GitHub Desktop or using Git commands)\n",
    "# Add the file to your GitHub repo as you did previously (using GitHub Desktop or Git commands).\n"
   ]
  }
 ],
 "metadata": {
  "kernelspec": {
   "display_name": "Python [conda env:base] *",
   "language": "python",
   "name": "conda-base-py"
  },
  "language_info": {
   "codemirror_mode": {
    "name": "ipython",
    "version": 3
   },
   "file_extension": ".py",
   "mimetype": "text/x-python",
   "name": "python",
   "nbconvert_exporter": "python",
   "pygments_lexer": "ipython3",
   "version": "3.12.7"
  }
 },
 "nbformat": 4,
 "nbformat_minor": 5
}
